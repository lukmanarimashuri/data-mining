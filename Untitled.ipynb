{
 "cells": [
  {
   "cell_type": "code",
   "execution_count": 2,
   "metadata": {},
   "outputs": [
    {
     "name": "stdout",
     "output_type": "stream",
     "text": [
      "varian Umur          : 499\n",
      "varian Tinggi Badan  : 499\n",
      "varian  Berat Badan  : 499\n",
      "varian Ukuran Sepatu : 499\n"
     ]
    }
   ],
   "source": [
    "import pandas as dt\n",
    "df=dt.read_csv(\"rozdata.csv\")\n",
    "df['Umur'].describe()\n",
    "df[\"Tinggi Badan\"].describe()\n",
    "df['Berat Badan'].describe()\n",
    "df['Ukuran Sepatu'].describe()\n",
    "print(\"varian Umur          :\",df['Umur'].count())\n",
    "print(\"varian Tinggi Badan  :\",df['Tinggi Badan'].count())\n",
    "print(\"varian  Berat Badan  :\",df['Berat Badan'].count())\n",
    "print(\"varian Ukuran Sepatu :\",df['Ukuran Sepatu'].count())"
   ]
  },
  {
   "cell_type": "code",
   "execution_count": null,
   "metadata": {},
   "outputs": [],
   "source": []
  }
 ],
 "metadata": {
  "kernelspec": {
   "display_name": "Python 3",
   "language": "python",
   "name": "python3"
  },
  "language_info": {
   "codemirror_mode": {
    "name": "ipython",
    "version": 3
   },
   "file_extension": ".py",
   "mimetype": "text/x-python",
   "name": "python",
   "nbconvert_exporter": "python",
   "pygments_lexer": "ipython3",
   "version": "3.6.5"
  }
 },
 "nbformat": 4,
 "nbformat_minor": 2
}
